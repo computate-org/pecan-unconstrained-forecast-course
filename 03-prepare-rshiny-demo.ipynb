{
 "cells": [
  {
   "cell_type": "markdown",
   "id": "3f948eb1-cf1f-4e71-862d-d082e4809ab2",
   "metadata": {},
   "source": [
    "Create the OpenShift Service definition below to open up the port 8080 of the notebook to network traffic in the namespace."
   ]
  },
  {
   "cell_type": "code",
   "execution_count": 1,
   "id": "20cde373-e510-4c7b-9c8a-114bf72ae795",
   "metadata": {},
   "outputs": [
    {
     "name": "stdout",
     "output_type": "stream",
     "text": [
      "service/rshiny-devel created\n",
      "DONE\n"
     ]
    }
   ],
   "source": [
    "%%bash\n",
    "echo \"\n",
    "kind: Service\n",
    "apiVersion: v1\n",
    "metadata:\n",
    "  name: rshiny-devel\n",
    "  namespace: $(cat /var/run/secrets/kubernetes.io/serviceaccount/namespace)\n",
    "spec:\n",
    "  ports:\n",
    "    - protocol: TCP\n",
    "      port: 8080\n",
    "      targetPort: 8080\n",
    "  type: ClusterIP\n",
    "  selector:\n",
    "    notebook-name: pecan-unconstrained-forecast\n",
    "\" | oc apply -f -\n",
    "echo DONE"
   ]
  },
  {
   "cell_type": "markdown",
   "id": "36b7a316-6456-4e06-827b-3067f50278cf",
   "metadata": {},
   "source": [
    "Create the OpenShift NetworkPolicy definition below allow access from the route to the port 8080 of the notebook pod."
   ]
  },
  {
   "cell_type": "code",
   "execution_count": 3,
   "id": "4e66f028-90c9-4e82-a763-885c9923631a",
   "metadata": {},
   "outputs": [
    {
     "name": "stdout",
     "output_type": "stream",
     "text": [
      "networkpolicy.networking.k8s.io/rshiny-devel created\n"
     ]
    }
   ],
   "source": [
    "%%bash\n",
    "echo \"\n",
    "kind: NetworkPolicy\n",
    "apiVersion: networking.k8s.io/v1\n",
    "metadata:\n",
    "  name: rshiny-devel\n",
    "spec:\n",
    "  podSelector:\n",
    "    matchLabels:\n",
    "      notebook-name: pecan-unconstrained-forecast\n",
    "  ingress:\n",
    "    - ports:\n",
    "        - protocol: TCP\n",
    "          port: 8080\n",
    "  policyTypes:\n",
    "    - Ingress\n",
    "status: {}\n",
    "\" | oc apply -f -"
   ]
  },
  {
   "cell_type": "markdown",
   "id": "c1eac361-1a40-422d-a465-db648686c7eb",
   "metadata": {},
   "source": [
    "Create the OpenShift Route definition below to expose the running RShiny application in development to the Internet."
   ]
  },
  {
   "cell_type": "code",
   "execution_count": 5,
   "id": "84ebe730-6e59-4d79-9733-95e895b7c872",
   "metadata": {},
   "outputs": [
    {
     "name": "stdout",
     "output_type": "stream",
     "text": [
      "route.route.openshift.io/rshiny-devel unchanged\n",
      "https://rshiny-devel-pecan.apps-crc.testing\n",
      "DONE\n"
     ]
    }
   ],
   "source": [
    "%%bash\n",
    "echo \"\n",
    "kind: Route\n",
    "apiVersion: route.openshift.io/v1\n",
    "metadata:\n",
    "  name: rshiny-devel\n",
    "  labels:\n",
    "    notebook-name: pecan-unconstrained-forecast\n",
    "spec:\n",
    "  to:\n",
    "    kind: Service\n",
    "    name: rshiny-devel\n",
    "    weight: 100\n",
    "  port:\n",
    "    targetPort: 8080\n",
    "  tls:\n",
    "    termination: edge\n",
    "  wildcardPolicy: None\n",
    "\" | oc apply -f -\n",
    "\n",
    "echo \"https://$(oc get route/rshiny-devel -o jsonpath={.spec.host})\"\n",
    "echo DONE"
   ]
  },
  {
   "cell_type": "code",
   "execution_count": null,
   "id": "422e5334-ae6e-4633-937b-9bd50dedd3a0",
   "metadata": {},
   "outputs": [],
   "source": []
  }
 ],
 "metadata": {
  "kernelspec": {
   "display_name": "Python 3.9.16",
   "language": "python",
   "name": "python3"
  },
  "language_info": {
   "codemirror_mode": {
    "name": "ipython",
    "version": 3
   },
   "file_extension": ".py",
   "mimetype": "text/x-python",
   "name": "python",
   "nbconvert_exporter": "python",
   "pygments_lexer": "ipython3",
   "version": "3.9.16"
  }
 },
 "nbformat": 4,
 "nbformat_minor": 5
}
