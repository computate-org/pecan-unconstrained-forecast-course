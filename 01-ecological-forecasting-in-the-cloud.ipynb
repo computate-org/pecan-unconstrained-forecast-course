{
 "cells": [
  {
   "cell_type": "markdown",
   "id": "c3e2ffe9-0679-45cf-89d3-bd64789982f6",
   "metadata": {},
   "source": [
    "# PEcAn to the cloud\n",
    "\n",
    "## Moving ecological forecasting from high performance computer to cloud\n",
    "\n",
    "by Christopher Tate\n",
    "\n",
    "Principal Software Engineer in Red Hat Research\n"
   ]
  },
  {
   "cell_type": "markdown",
   "id": "21c941d4",
   "metadata": {},
   "source": [
    "## Software tools\n",
    "\n",
    "What kind of software tools do forecasting researchers need?\n",
    "\n",
    "![Open source, accessible, reusable, scalable](pictures/efi-software-tools.png)\n",
    "\n",
    "- Open source\n",
    "  - The trusted enterprise open source cloud platform\n",
    "- Accessible\n",
    "  - Test your forecasts in the free OpenShift Developer Sandbox\n",
    "  - Develop open source models and microservices with OpenShift Local\n",
    "  - OpenShift Local microshift preset runs on laptops with fewer resources\n",
    "- Reusable\n",
    "  - Easily migrate your forecasting to OpenShift clusters On Premise, or on AWS, Azure, or Google\n",
    "  - Also deploys to Red Hat MicroShift at the Edge\n",
    "- Scalable\n",
    "  - Scale from your laptop to a datacenter like the New England Research Cloud\n"
   ]
  },
  {
   "cell_type": "markdown",
   "id": "350e6383",
   "metadata": {},
   "source": [
    "\n",
    "## Ecological forecasting cloud native architecture overview\n",
    "\n",
    "![Ecological forecasting cloud native architecture overview](pictures/pecan-unconstrained-forecast-overview-simplified.png)"
   ]
  },
  {
   "cell_type": "markdown",
   "id": "85d8cdce",
   "metadata": {},
   "source": [
    "![Architecture](pictures/pecan-unconstrained-forecast-architecture-simplified.png)\n",
    "\n",
    "## Advantages\n",
    "\n",
    "- OpenShift AI workbench for each user\n",
    "- Custom Metrics Autoscaler\n",
    "- One Time Jobs\n",
    "- Cron Jobs\n",
    "- Object Storage\n",
    "- Microservices in the same project\n"
   ]
  },
  {
   "cell_type": "markdown",
   "id": "951c59b7",
   "metadata": {},
   "source": [
    "## ![Open cloud solutions](pictures/efi-open-cloud-solutions.png) PEcAn’s new event-driven, distributed design\n",
    "\n",
    "- **Open source branching**\n",
    "\n",
    "  Prototyping new cloud-native software relies on branching\n",
    "\n",
    "- **Distributed storage**\n",
    "\n",
    "  Consider object storage, ephemeral storage, and persistent storage needs\n",
    "\n",
    "- **Pod autoscaling**\n",
    "\n",
    "  Scale the number of running model pods based on the number of messages\n",
    "\n",
    "- **Rsync strategy**\n",
    "\n",
    "  Pull forecast data from one pod and back with ephemeral storage\n"
   ]
  },
  {
   "cell_type": "code",
   "execution_count": null,
   "id": "2e3bdbbb",
   "metadata": {},
   "outputs": [],
   "source": []
  }
 ],
 "metadata": {
  "kernelspec": {
   "display_name": "Python 3.9.16",
   "language": "python",
   "name": "python3"
  },
  "language_info": {
   "codemirror_mode": {
    "name": "ipython",
    "version": 3
   },
   "file_extension": ".py",
   "mimetype": "text/x-python",
   "name": "python",
   "nbconvert_exporter": "python",
   "pygments_lexer": "ipython3",
   "version": "3.9.18"
  }
 },
 "nbformat": 4,
 "nbformat_minor": 5
}
