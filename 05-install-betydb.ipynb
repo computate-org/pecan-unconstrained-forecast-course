{
 "cells": [
  {
   "cell_type": "markdown",
   "id": "02c932ae",
   "metadata": {},
   "source": [
    "# About the BETYdb service in the PEcAn platform\n",
    "\n",
    "According to the [BETYdb documentation](https://pecan.gitbook.io/betydbdoc-dataentry), \n",
    "BETYdb is used to manage and distribute agricultural and ecological data. \n",
    "The web interface provides a sequence of pages that walk through the process of entering meta-data, \n",
    "and then the option of entering trait and yield data through a similar web form or via upload of a text (csv) file. \n",
    "For entering large tables of data there is Bulk Upload Wizard. \n",
    "This is useful when entering more than a few dozen trait or yield data from a single source.\n",
    "\n",
    "There are typically two categories of data that are entered:\n",
    "\n",
    "- Results from previously published research, typically statistical summaries.\n",
    "- Primary data, observations at the level of an individual replicate. \n",
    "\n",
    "BETYdb supports both of these, because it was designed to support new research that quantitatively builds on previous research, \n",
    "allowing researchers to develop, test, and evaluate new hypotheses based on what is already known. \n"
   ]
  },
  {
   "cell_type": "markdown",
   "id": "2a3e2f4b-0044-484b-b4a0-2ca69a4fe856",
   "metadata": {},
   "source": [
    "# Install BetyDB with helm"
   ]
  },
  {
   "cell_type": "markdown",
   "id": "f1b040ad",
   "metadata": {},
   "source": [
    "We will create a `pecan-betydb` Secret from an existing `pecan-postgresql` database Secret that BETYdb will use to connect to PostgreSQL. "
   ]
  },
  {
   "cell_type": "code",
   "execution_count": null,
   "id": "9c9c24ec",
   "metadata": {},
   "outputs": [],
   "source": [
    "%%bash\n",
    "oc delete secret/pecan-betydb\n",
    "oc create secret generic pecan-betydb \\\n",
    "  --from-literal=postgresqlPassword=$(oc get secret pecan-postgresql -o jsonpath={.data.postgres-password} | base64 -d) \\\n",
    "  --from-literal=betyPassword=$(oc get secret pecan-postgresql -o jsonpath={.data.postgres-password} | base64 -d) \\\n",
    "  --from-literal=secretKey=\"thisisnotasecret\"\n",
    "echo DONE"
   ]
  },
  {
   "cell_type": "markdown",
   "id": "8182bcd4",
   "metadata": {},
   "source": [
    "Run the commands below to install BetyDB on top of PostgreSQL for ecological forecasting data. "
   ]
  },
  {
   "cell_type": "code",
   "execution_count": null,
   "id": "3ca43de0-6432-43cd-97b9-98b37d4773e1",
   "metadata": {},
   "outputs": [],
   "source": [
    "%%bash\n",
    "git clone https://github.com/computate-org/bety-helm.git ~/.local/src/bety-helm/\n",
    "helm repo add bitnami https://raw.githubusercontent.com/bitnami/charts/archive-full-index/bitnami\n",
    "(cd ~/.local/src/bety-helm/ && helm dependency build)\n",
    "helm upgrade --install betydb ~/.local/src/bety-helm/  \\\n",
    "  --set image.repository=quay.io/computateorg/bety \\\n",
    "  --set image.tag=latest \\\n",
    "  --set image.pullPolicy=Always \\\n",
    "  --set postgres.enabled=false \\\n",
    "  --set postgresql.enabled=false \\\n",
    "  --set postgresql.fullnameOverride=pecan-postgresql \\\n",
    "  --set postgresql.serviceAccount.enabled=true \\\n",
    "  --set postgresql.postgresqlHost=pecan-postgresql \\\n",
    "  --set serviceAccount.enabled=true \\\n",
    "  --set serviceAccount.name=pecan-betydb \\\n",
    "  --set externalSecret=true \\\n",
    "  --set nameOverride=pecan \\\n",
    "  --set fullnameOverride=pecan-betydb\n",
    "echo DONE"
   ]
  },
  {
   "cell_type": "markdown",
   "id": "8837dbde",
   "metadata": {},
   "source": [
    "### View BETYdb pod details\n",
    "After deploying the Helm Chart, it will take a minute before the PostgreSQL pod is up and running. Run the command below until the PostgreSQL pod health checks are `READY 1/1` and `STATUS Running`. \n",
    "You may also see a `pecan-betydb-load-db` Job that also completed."
   ]
  },
  {
   "cell_type": "code",
   "execution_count": null,
   "id": "5a1b968d",
   "metadata": {},
   "outputs": [],
   "source": [
    "%%bash\n",
    "oc get pod -l app.kubernetes.io/instance=betydb\n",
    "echo DONE"
   ]
  },
  {
   "cell_type": "markdown",
   "id": "1b5bee16",
   "metadata": {},
   "source": [
    "### View BETYdb pod logs\n",
    "If your BETYdb pod does not reach the STATUS Running, you can run the command below to view the pod logs of BETYdb and check for other errors that may have occured. "
   ]
  },
  {
   "cell_type": "code",
   "execution_count": null,
   "id": "c506bd38",
   "metadata": {},
   "outputs": [],
   "source": [
    "%%bash\n",
    "oc logs -l app.kubernetes.io/instance=betydb\n",
    "echo DONE"
   ]
  },
  {
   "cell_type": "markdown",
   "id": "a795908a",
   "metadata": {},
   "source": [
    "## Check the version of BETYdb deployed\n",
    "\n",
    "BetyDB is an open source project in the PEcAn platform, and we are using a custom image for BETYdb that is being tested for compatibility with other components. \n",
    "You can check on the image version of RabbitMQ by checking the `image` of the `Deployment/pecan-rabbitmq` below. "
   ]
  },
  {
   "cell_type": "code",
   "execution_count": null,
   "id": "ca8ac892",
   "metadata": {},
   "outputs": [],
   "source": [
    "%%bash\n",
    "oc get deployment/pecan-betydb -o yaml | grep image:\n",
    "echo DONE"
   ]
  },
  {
   "cell_type": "markdown",
   "id": "dded9cd3",
   "metadata": {},
   "source": [
    "The image you discovered above can also be found in quay.io here: \n",
    "\n",
    "https://quay.io/repository/computateorg/bety"
   ]
  },
  {
   "cell_type": "markdown",
   "id": "4a2d8d9a",
   "metadata": {},
   "source": [
    "## More information about deploying BETYdb\n",
    "\n",
    "To learn more about deploying BETYdb using the Bitnami Helm Chart see: \n",
    "\n",
    "https://github.com/PecanProject/bety-helm"
   ]
  },
  {
   "cell_type": "markdown",
   "id": "a284c3c0",
   "metadata": {},
   "source": [
    "## Next...\n",
    "I hope that answers your questions about BETYdb in the PEcAn Platform. \n",
    "- If you have additional questions or issues, please [create an issue for the course here](https://github.com/computate-org/pecan-unconstrained-forecast-course/issues). \n",
    "- Otherwise, please continue to the next notebook [06-install-pecan.ipynb](06-install-pecan.ipynb). "
   ]
  },
  {
   "cell_type": "code",
   "execution_count": null,
   "id": "c859961b-57fc-410a-b305-50f2b9d2d14f",
   "metadata": {},
   "outputs": [],
   "source": []
  }
 ],
 "metadata": {
  "kernelspec": {
   "display_name": "Python 3",
   "language": "python",
   "name": "python3"
  },
  "language_info": {
   "codemirror_mode": {
    "name": "ipython",
    "version": 3
   },
   "file_extension": ".py",
   "mimetype": "text/x-python",
   "name": "python",
   "nbconvert_exporter": "python",
   "pygments_lexer": "ipython3",
   "version": "3.9.18"
  }
 },
 "nbformat": 4,
 "nbformat_minor": 5
}
