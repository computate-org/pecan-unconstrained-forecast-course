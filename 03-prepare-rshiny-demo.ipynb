{
 "cells": [
  {
   "cell_type": "markdown",
   "id": "fc43142a-6553-4fd2-bfb4-8dfef88f048f",
   "metadata": {},
   "source": [
    "## Prepare the RShiny development route\n",
    "\n",
    "Before we start running R Shiny code, we will prepare an OpenShift Service, Route, and Network Policy to open up port 8080 of our"
   ]
  },
  {
   "cell_type": "markdown",
   "id": "3f948eb1-cf1f-4e71-862d-d082e4809ab2",
   "metadata": {},
   "source": [
    "Create the OpenShift Service definition below to open up the port 8080 of the notebook to network traffic in the namespace."
   ]
  },
  {
   "cell_type": "code",
   "execution_count": null,
   "id": "20cde373-e510-4c7b-9c8a-114bf72ae795",
   "metadata": {},
   "outputs": [],
   "source": [
    "%%bash\n",
    "echo \"\n",
    "kind: Service\n",
    "apiVersion: v1\n",
    "metadata:\n",
    "  name: rshiny-devel\n",
    "  namespace: $(cat /var/run/secrets/kubernetes.io/serviceaccount/namespace)\n",
    "spec:\n",
    "  ports:\n",
    "    - protocol: TCP\n",
    "      port: 8080\n",
    "      targetPort: 8080\n",
    "  type: ClusterIP\n",
    "  selector:\n",
    "    notebook-name: pecan-unconstrained-forecast\n",
    "\" | oc apply -f -\n",
    "echo DONE"
   ]
  },
  {
   "cell_type": "markdown",
   "id": "36b7a316-6456-4e06-827b-3067f50278cf",
   "metadata": {},
   "source": [
    "Create the OpenShift NetworkPolicy definition below allow access from the route to the port 8080 of the notebook pod."
   ]
  },
  {
   "cell_type": "code",
   "execution_count": null,
   "id": "4e66f028-90c9-4e82-a763-885c9923631a",
   "metadata": {},
   "outputs": [],
   "source": [
    "%%bash\n",
    "echo \"\n",
    "kind: NetworkPolicy\n",
    "apiVersion: networking.k8s.io/v1\n",
    "metadata:\n",
    "  name: rshiny-devel\n",
    "spec:\n",
    "  podSelector:\n",
    "    matchLabels:\n",
    "      notebook-name: pecan-unconstrained-forecast\n",
    "  ingress:\n",
    "    - ports:\n",
    "        - protocol: TCP\n",
    "          port: 8080\n",
    "  policyTypes:\n",
    "    - Ingress\n",
    "status: {}\n",
    "\" | oc apply -f -\n",
    "echo DONE"
   ]
  },
  {
   "cell_type": "markdown",
   "id": "c1eac361-1a40-422d-a465-db648686c7eb",
   "metadata": {},
   "source": [
    "Create the OpenShift Route definition below to expose the running RShiny application in development to the Internet."
   ]
  },
  {
   "cell_type": "code",
   "execution_count": null,
   "id": "84ebe730-6e59-4d79-9733-95e895b7c872",
   "metadata": {},
   "outputs": [],
   "source": [
    "%%bash\n",
    "echo \"\n",
    "kind: Route\n",
    "apiVersion: route.openshift.io/v1\n",
    "metadata:\n",
    "  name: rshiny-devel\n",
    "  labels:\n",
    "    notebook-name: pecan-unconstrained-forecast\n",
    "spec:\n",
    "  to:\n",
    "    kind: Service\n",
    "    name: rshiny-devel\n",
    "    weight: 100\n",
    "  port:\n",
    "    targetPort: 8080\n",
    "  tls:\n",
    "    termination: edge\n",
    "  wildcardPolicy: None\n",
    "\" | oc apply -f -\n",
    "echo DONE"
   ]
  },
  {
   "cell_type": "markdown",
   "id": "d5525ee5-8f36-4b65-9c8e-d86283a24fcc",
   "metadata": {},
   "source": [
    "## Route to access your R Shiny application in development\n",
    "\n",
    "Run the command below to generate the link to the see your R Shiny application in development that you will develop in the next notebook. "
   ]
  },
  {
   "cell_type": "code",
   "execution_count": null,
   "id": "638c9a68-6676-4102-8971-7b8e8149e570",
   "metadata": {},
   "outputs": [],
   "source": [
    "%%bash\n",
    "echo \"https://$(oc get route/rshiny-devel -o jsonpath={.spec.host})\"\n",
    "echo DONE"
   ]
  },
  {
   "cell_type": "markdown",
   "id": "5b259258-9ce5-464e-b372-8ea1c725784b",
   "metadata": {},
   "source": [
    "\n",
    "## Next...\n",
    "If you have successfully ran all of the commands above, congratulations, you are ready to move on to the next notebook in the course. \n",
    "- If you have additional questions or issues, please [create an issue for the course here](https://github.com/computate-org/pecan-unconstrained-forecast-course/issues). \n",
    "- Otherwise, please continue to the next notebook [04-rshiny-demo.ipynb](04-rshiny-demo.ipynb). \n"
   ]
  },
  {
   "cell_type": "code",
   "execution_count": null,
   "id": "784b450b-a29e-40b3-a723-ea804bcb36a0",
   "metadata": {},
   "outputs": [],
   "source": []
  }
 ],
 "metadata": {
  "kernelspec": {
   "display_name": "Python 3.9.16",
   "language": "python",
   "name": "python3"
  },
  "language_info": {
   "codemirror_mode": {
    "name": "ipython",
    "version": 3
   },
   "file_extension": ".py",
   "mimetype": "text/x-python",
   "name": "python",
   "nbconvert_exporter": "python",
   "pygments_lexer": "ipython3",
   "version": "3.9.16"
  }
 },
 "nbformat": 4,
 "nbformat_minor": 5
}
