{
 "cells": [
  {
   "cell_type": "markdown",
   "id": "526cb689-a232-4a90-a849-0cc5c955e9c1",
   "metadata": {},
   "source": [
    "# Install PEcAn with helm\n",
    "\n",
    "Run the commands below to install PEcAn for ecological forecasting. "
   ]
  },
  {
   "cell_type": "code",
   "execution_count": null,
   "id": "7d91c102-6cfa-47d4-9067-e2158c83163a",
   "metadata": {},
   "outputs": [],
   "source": [
    "%%bash\n",
    "git clone https://github.com/computate-org/pecan-helm.git ~/.local/src/pecan-helm/\n",
    "helm repo add ncsa https://opensource.ncsa.illinois.edu/charts/\n",
    "(cd ~/.local/src/pecan-helm/ && helm dependency build)\n",
    "echo DONE"
   ]
  },
  {
   "cell_type": "code",
   "execution_count": null,
   "id": "9f60f507",
   "metadata": {},
   "outputs": [],
   "source": [
    "%%bash\n",
    "helm upgrade --install pecan ~/.local/src/pecan-helm/  \\\n",
    "  --set betydb.enabled=false \\\n",
    "  --set betydb.postgresql.enabled=false \\\n",
    "  --set betydb.postgresql.postgresqlHost=pecan-postgresql \\\n",
    "  --set betydb.postgresql.postgresqlUser=postgres \\\n",
    "  --set betydb.postgresql.postgresqlUsername=postgres \\\n",
    "  --set betydb.postgresql.postgresqlDatabase=postgres \\\n",
    "  --set betydb.postgresql.service.port=5432 \\\n",
    "  --set betydb.service.port=8000 \\\n",
    "  --set betydb.betyUser=bety \\\n",
    "  --set betydb.betyDatabase=bety \\\n",
    "  --set betydb.ingress.hosts={pecan-betydb} \\\n",
    "  --set rabbitmq.enabled=false \\\n",
    "  --set rabbitmq.rabbitmq.username=guest \\\n",
    "  --set rabbitmq.rabbitmq.password=guest \\\n",
    "  --set rabbitmq.rabbitmq.erlangCookie=1234thisisasupersecretoflength32 \\\n",
    "  --set rabbitmq.auth.username=guest \\\n",
    "  --set rabbitmq.auth.password=guest \\\n",
    "  --set rabbitmq.auth.erlangCookie=1234thisisasupersecretoflength32 \\\n",
    "  --set rabbitmq.ingress.enabled=false \\\n",
    "  --set rabbitmq.ingress.hostName=rabbitmq.localhost \\\n",
    "  --set rabbitmq.ingress.path=/ \\\n",
    "  --set clustername=pecan-server \\\n",
    "  --set clusterfqdn={pecan.$(oc get route python -o jsonpath={.spec.host} | cut -d \".\" -f2-)} \\\n",
    "  --set initializeData=true \\\n",
    "  --set ingress.enabled=true \\\n",
    "  --set pecan.env.betydb=http://betydb:8000/ \\\n",
    "  --set persistence.size=3Gi \\\n",
    "  --set persistence.accessMode=ReadWriteOnce \\\n",
    "  --set docs.replicaCount=0 \\\n",
    "  --set executor.replicaCount=0 \\\n",
    "  --set models.biocro-0-95.replicaCount=0 \\\n",
    "  --set models.ed2-2-2-0.replicaCount=0 \\\n",
    "  --set models.maespa-git.replicaCount=0 \\\n",
    "  --set models.sipnet-git.replicaCount=0 \\\n",
    "  --set models.sipnet-136.replicaCount=0 \\\n",
    "  --set web.replicaCount=0 \\\n",
    "  --set ingress.hosts={pecan.$(oc get route python -o jsonpath={.spec.host} | cut -d \".\" -f2-)}\n",
    "echo DONE"
   ]
  },
  {
   "cell_type": "code",
   "execution_count": null,
   "id": "c859961b-57fc-410a-b305-50f2b9d2d14f",
   "metadata": {},
   "outputs": [],
   "source": [
    "%%bash\n",
    "oc scale deployment/pecan-web --replicas 1\n",
    "echo DONE"
   ]
  },
  {
   "cell_type": "code",
   "execution_count": null,
   "id": "a75d3f9e",
   "metadata": {},
   "outputs": [],
   "source": [
    "%%bash\n",
    "oc scale deployment/pecan-model-sipnet-git --replicas 1\n",
    "echo DONE"
   ]
  },
  {
   "cell_type": "code",
   "execution_count": null,
   "id": "919706db",
   "metadata": {},
   "outputs": [],
   "source": [
    "%%bash\n",
    "oc scale deployment/pecan-executor --replicas 1\n",
    "echo DONE"
   ]
  },
  {
   "cell_type": "code",
   "execution_count": null,
   "id": "72f81acd",
   "metadata": {},
   "outputs": [],
   "source": []
  }
 ],
 "metadata": {
  "kernelspec": {
   "display_name": "Python 3.9.16",
   "language": "python",
   "name": "python3"
  },
  "language_info": {
   "codemirror_mode": {
    "name": "ipython",
    "version": 3
   },
   "file_extension": ".py",
   "mimetype": "text/x-python",
   "name": "python",
   "nbconvert_exporter": "python",
   "pygments_lexer": "ipython3",
   "version": "3.9.18"
  }
 },
 "nbformat": 4,
 "nbformat_minor": 5
}
