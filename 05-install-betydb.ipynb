{
 "cells": [
  {
   "cell_type": "markdown",
   "id": "02c932ae",
   "metadata": {},
   "source": [
    "According to the [BETYdb documentation](https://pecan.gitbook.io/betydbdoc-dataentry), \n",
    "BETYdb is used to manage and distribute agricultural and ecological data. \n",
    "The web interface provides a sequence of pages that walk through the process of entering meta-data, \n",
    "and then the option of entering trait and yield data through a similar web form or via upload of a text (csv) file. \n",
    "For entering large tables of data there is Bulk Upload Wizard. \n",
    "This is useful when entering more than a few dozen trait or yield data from a single source.\n",
    "\n",
    "There are typically two categories of data that are entered:\n",
    "\n",
    "- Results from previously published research, typically statistical summaries.\n",
    "- Primary data, observations at the level of an individual replicate. \n",
    "\n",
    "BETYdb supports both of these, because it was designed to support new research that quantitatively builds on previous research, \n",
    "allowing researchers to develop, test, and evaluate new hypotheses based on what is already known. \n"
   ]
  },
  {
   "cell_type": "markdown",
   "id": "2a3e2f4b-0044-484b-b4a0-2ca69a4fe856",
   "metadata": {},
   "source": [
    "# Install BetyDB with helm\n",
    "\n",
    "Run the commands below to install BetyDB on top of PostgreSQL for ecological forecasting data. "
   ]
  },
  {
   "cell_type": "code",
   "execution_count": null,
   "id": "9c9c24ec",
   "metadata": {
    "vscode": {
     "languageId": "python"
    }
   },
   "outputs": [],
   "source": [
    "%%bash\n",
    "oc delete secret/pecan-betydb\n",
    "oc create secret generic pecan-betydb \\\n",
    "  --from-literal=postgresqlPassword=$(oc get secret pecan-postgresql -o jsonpath={.data.postgres-password} | base64 -d) \\\n",
    "  --from-literal=betyPassword=$(oc get secret pecan-postgresql -o jsonpath={.data.postgres-password} | base64 -d) \\\n",
    "  --from-literal=secretKey=\"thisisnotasecret\"\n",
    "echo DONE"
   ]
  },
  {
   "cell_type": "code",
   "execution_count": null,
   "id": "3ca43de0-6432-43cd-97b9-98b37d4773e1",
   "metadata": {
    "vscode": {
     "languageId": "shellscript"
    }
   },
   "outputs": [],
   "source": [
    "%%bash\n",
    "git clone https://github.com/computate-org/bety-helm.git ~/.local/src/bety-helm/\n",
    "helm repo add bitnami https://raw.githubusercontent.com/bitnami/charts/archive-full-index/bitnami\n",
    "(cd ~/.local/src/bety-helm/ && helm dependency build)\n",
    "helm upgrade --install betydb ~/.local/src/bety-helm/  \\\n",
    "  --set image.repository=quay.io/computateorg/bety \\\n",
    "  --set image.tag=latest \\\n",
    "  --set image.pullPolicy=Always \\\n",
    "  --set postgresql.enabled=false \\\n",
    "  --set postgresql.fullnameOverride=pecan-postgresql \\\n",
    "  --set postgresql.serviceAccount.enabled=true \\\n",
    "  --set postgresql.postgresqlHost=pecan-postgresql \\\n",
    "  --set serviceAccount.enabled=true \\\n",
    "  --set serviceAccount.name=pecan-betydb \\\n",
    "  --set externalSecret=true \\\n",
    "  --set nameOverride=pecan \\\n",
    "  --set fullnameOverride=pecan-betydb\n",
    "echo DONE"
   ]
  },
  {
   "cell_type": "code",
   "execution_count": null,
   "id": "c859961b-57fc-410a-b305-50f2b9d2d14f",
   "metadata": {
    "vscode": {
     "languageId": "shellscript"
    }
   },
   "outputs": [],
   "source": []
  }
 ],
 "metadata": {
  "kernelspec": {
   "display_name": "Bash",
   "language": "bash",
   "name": "bash"
  },
  "language_info": {
   "codemirror_mode": "shell",
   "file_extension": ".sh",
   "mimetype": "text/x-sh",
   "name": "bash"
  }
 },
 "nbformat": 4,
 "nbformat_minor": 5
}
