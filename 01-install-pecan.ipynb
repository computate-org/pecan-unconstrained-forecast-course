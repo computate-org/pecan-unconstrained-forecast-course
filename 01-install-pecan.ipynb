{
 "cells": [
  {
   "cell_type": "markdown",
   "id": "c3e2ffe9-0679-45cf-89d3-bd64789982f6",
   "metadata": {},
   "source": [
    "# Install helm\n",
    "\n",
    "Run the commands below to install helm, for installing postgresql, betydb, and PEcAn. "
   ]
  },
  {
   "cell_type": "code",
   "execution_count": null,
   "id": "ce378b2b-3ab0-4bc9-8ee2-7bc380eb965e",
   "metadata": {},
   "outputs": [],
   "source": [
    "%%bash\n",
    "mkdir -p ~/.local/bin/ ~/.local/src\n",
    "curl -fsSL -o ~/.local/bin/get_helm.sh https://raw.githubusercontent.com/helm/helm/main/scripts/get-helm-3\n",
    "chmod 700 ~/.local/bin/get_helm.sh\n",
    "env HELM_INSTALL_DIR=~/.local/bin ~/.local/bin/get_helm.sh --no-sudo\n",
    "echo DONE"
   ]
  },
  {
   "cell_type": "markdown",
   "id": "1814347f-b17a-4f7c-ab67-75a531232d6e",
   "metadata": {},
   "source": [
    "# Install PostgreSQL with helm\n",
    "\n",
    "Run the commands below to install PostgreSQL relational database with helm. "
   ]
  },
  {
   "cell_type": "code",
   "execution_count": null,
   "id": "5721ad20-c855-40b2-8817-386085a460c1",
   "metadata": {
    "tags": []
   },
   "outputs": [],
   "source": [
    "%%bash\n",
    "helm uninstall postgresql\n",
    "# --version 11.9.13\n",
    "helm install postgresql oci://registry-1.docker.io/bitnamicharts/postgresql \\\n",
    "  --set enabled=true \\\n",
    "  --set image.tag=14.5.0 \\\n",
    "  --set volumePermissions.securityContext.runAsUser=\"auto\" \\\n",
    "  --set fullnameOverride=pecan-postgresql \\\n",
    "  --set auth.postgresqlPassword=supersecret \\\n",
    "  --set auth.postgresPassword=supersecret\n",
    "#  --set securityContext.enabled=false \\\n",
    "#  --set containerSecurityContext.enabled=false \\\n",
    "#  --set shmVolume.chmod.enabled=false \\\n",
    "#  --set fullnameOverride=pecan-postgresql \\\n",
    "#  --set auth.username=postgres \\\n",
    "#  --set serviceAccount.enabled=true \\\n",
    "echo DONE"
   ]
  },
  {
   "cell_type": "code",
   "execution_count": null,
   "id": "3b7ed065-8de5-4ebd-9ceb-5c6c4006eb17",
   "metadata": {
    "tags": []
   },
   "outputs": [],
   "source": [
    "%%bash\n",
    "oc wait pod/pecan-postgresql-0 --for=condition=Ready --timeout=2m\n",
    "echo DONE"
   ]
  },
  {
   "cell_type": "markdown",
   "id": "2a3e2f4b-0044-484b-b4a0-2ca69a4fe856",
   "metadata": {
    "tags": []
   },
   "source": [
    "# Install BetyDB with helm\n",
    "\n",
    "Run the commands below to install BetyDB on top of PostgreSQL for ecological forecasting data. "
   ]
  },
  {
   "cell_type": "code",
   "execution_count": null,
   "id": "6dc9c077-5ec4-46d5-812c-189a862ccc71",
   "metadata": {
    "tags": []
   },
   "outputs": [],
   "source": [
    "%%bash\n",
    "oc delete secret/pecan-betydb\n",
    "oc create secret generic pecan-betydb \\\n",
    "  --from-literal=postgresqlPassword=$(oc get secret pecan-postgresql -o jsonpath={.data.postgres-password} | base64 -d) \\\n",
    "  --from-literal=betyPassword=$(oc get secret pecan-postgresql -o jsonpath={.data.postgres-password} | base64 -d) \\\n",
    "  --from-literal=secretKey=\"thisisnotasecret\"\n",
    "echo DONE"
   ]
  },
  {
   "cell_type": "code",
   "execution_count": null,
   "id": "3ca43de0-6432-43cd-97b9-98b37d4773e1",
   "metadata": {
    "tags": []
   },
   "outputs": [],
   "source": [
    "%%bash\n",
    "git clone https://github.com/computate-org/bety-helm.git ~/bety-helm/\n",
    "(cd ~/bety-helm/ && helm dependency build)\n",
    "oc delete job/pecan-betydb-load-db\n",
    "helm uninstall betydb\n",
    "helm install betydb ~/bety-helm/  \\\n",
    "  --set image.repository=quay.io/computateorg/bety \\\n",
    "  --set image.tag=latest \\\n",
    "  --set image.pullPolicy=Always \\\n",
    "  --set postgres.enabled=false \\\n",
    "  --set postgresql.enabled=false \\\n",
    "  --set postgresql.fullnameOverride=pecan-postgresql \\\n",
    "  --set postgresql.serviceAccount.enabled=true \\\n",
    "  --set postgresql.postgresqlHost=pecan-postgresql \\\n",
    "  --set serviceAccount.enabled=true \\\n",
    "  --set serviceAccount.name=pecan-betydb \\\n",
    "  --set externalSecret=true \\\n",
    "  --set nameOverride=pecan \\\n",
    "  --set fullnameOverride=pecan-betydb\n",
    "echo DONE"
   ]
  },
  {
   "cell_type": "code",
   "execution_count": null,
   "id": "2d9b6068-ba15-4e50-a9d5-e75ecd0b1559",
   "metadata": {
    "tags": []
   },
   "outputs": [],
   "source": [
    "%%bash\n",
    "oc wait job/pecan-betydb-load-db --for=condition=complete --timeout=10m\n",
    "echo DONE"
   ]
  },
  {
   "cell_type": "markdown",
   "id": "526cb689-a232-4a90-a849-0cc5c955e9c1",
   "metadata": {},
   "source": [
    "# Install PEcAn with helm\n",
    "\n",
    "Run the commands below to install PEcAn for ecological forecasting. "
   ]
  },
  {
   "cell_type": "code",
   "execution_count": null,
   "id": "7d91c102-6cfa-47d4-9067-e2158c83163a",
   "metadata": {
    "tags": []
   },
   "outputs": [],
   "source": [
    "%%bash\n",
    "git clone https://github.com/computate-org/pecan-helm.git -b upgrade-pecan ~/pecan-helm/\n",
    "helm repo add ncsa https://opensource.ncsa.illinois.edu/charts/\n",
    "(cd ~/pecan-helm/ && helm dependency build)\n",
    "helm uninstall pecan\n",
    "helm install pecan ~/pecan-helm/ \\\n",
    "  --set docs.replicaCount=0 \\\n",
    "  --set executor.replicaCount=0 \\\n",
    "  --set models.biocro-0-95.replicaCount=0 \\\n",
    "  --set models.ed2-2-2-0.replicaCount=0 \\\n",
    "  --set models.maespa-git.replicaCount=0 \\\n",
    "  --set models.sipnet-git.replicaCount=0 \\\n",
    "  --set models.sipnet-136.replicaCount=0 \\\n",
    "  --set betydb.enabled=false \\\n",
    "  --set betydb.postgresql.enabled=false \\\n",
    "  --set betydb.postgresql.postgresqlHost=pecan-postgresql \\\n",
    "  --set betydb.postgresql.postgresqlUser=postgres \\\n",
    "  --set betydb.postgresql.postgresqlUsername=postgres \\\n",
    "  --set betydb.postgresql.postgresqlDatabase=postgres \\\n",
    "  --set betydb.postgresql.service.port=5432 \\\n",
    "  --set betydb.service.port=8000 \\\n",
    "  --set rabbitmq.persistence.size=3Gi \\\n",
    "  --set clustername=pecan-server \\\n",
    "  --set clusterfqdn=pecan.$(oc get route python -o jsonpath={.spec.host} | cut -d \".\" -f2-) \\\n",
    "  --set initializeData=true \\\n",
    "  --set ingress.enabled=true \\\n",
    "  --set pecan.env.betydb=http://betydb:8000/ \\\n",
    "  --set persistence.size=3Gi \\\n",
    "  --set betydb.betyUser=bety \\\n",
    "  --set betydb.betyDatabase=bety \\\n",
    "  --set betydb.ingress.hosts={pecan-betydb} \\\n",
    "  --set ingress.hosts={pecan.$(oc get route python -o jsonpath={.spec.host} | cut -d \".\" -f2-)}\n",
    "echo DONE"
   ]
  },
  {
   "cell_type": "code",
   "execution_count": null,
   "id": "c859961b-57fc-410a-b305-50f2b9d2d14f",
   "metadata": {},
   "outputs": [],
   "source": []
  }
 ],
 "metadata": {
  "kernelspec": {
   "display_name": "Python 3.9",
   "language": "python",
   "name": "python3"
  },
  "language_info": {
   "codemirror_mode": {
    "name": "ipython",
    "version": 3
   },
   "file_extension": ".py",
   "mimetype": "text/x-python",
   "name": "python",
   "nbconvert_exporter": "python",
   "pygments_lexer": "ipython3",
   "version": "3.9.16"
  }
 },
 "nbformat": 4,
 "nbformat_minor": 5
}
