{
 "cells": [
  {
   "cell_type": "markdown",
   "id": "526cb689-a232-4a90-a849-0cc5c955e9c1",
   "metadata": {},
   "source": [
    "# Install PEcAn with helm\n",
    "\n",
    "Run the commands below to install PEcAn for ecological forecasting. "
   ]
  },
  {
   "cell_type": "code",
   "execution_count": null,
   "id": "7d91c102-6cfa-47d4-9067-e2158c83163a",
   "metadata": {},
   "outputs": [],
   "source": [
    "%%bash\n",
    "git clone https://github.com/computate-org/pecan-helm.git ~/.local/src/pecan-helm/\n",
    "helm repo add ncsa https://opensource.ncsa.illinois.edu/charts/\n",
    "(cd ~/.local/src/pecan-helm/ && helm dependency build)\n",
    "helm upgrade --install pecan ~/.local/src/pecan-helm/  \\\n",
    "  --set betydb.enabled=false \\\n",
    "  --set betydb.postgresql.enabled=false \\\n",
    "  --set betydb.postgresql.postgresqlHost=pecan-postgresql \\\n",
    "  --set betydb.postgresql.postgresqlUser=postgres \\\n",
    "  --set betydb.postgresql.postgresqlUsername=postgres \\\n",
    "  --set betydb.postgresql.postgresqlDatabase=postgres \\\n",
    "  --set betydb.postgresql.service.port=5432 \\\n",
    "  --set betydb.service.port=8000 \\\n",
    "  --set betydb.betyUser=bety \\\n",
    "  --set betydb.betyDatabase=bety \\\n",
    "  --set betydb.ingress.hosts={pecan-betydb} \\\n",
    "  --set rabbitmq.enabled=false \\\n",
    "  --set rabbitmq.rabbitmq.username=guest \\\n",
    "  --set rabbitmq.rabbitmq.password=guest \\\n",
    "  --set rabbitmq.rabbitmq.erlangCookie=1234thisisasupersecretoflength32 \\\n",
    "  --set rabbitmq.auth.username=guest \\\n",
    "  --set rabbitmq.auth.password=guest \\\n",
    "  --set rabbitmq.auth.erlangCookie=1234thisisasupersecretoflength32 \\\n",
    "  --set rabbitmq.ingress.enabled=false \\\n",
    "  --set rabbitmq.ingress.hostName=rabbitmq.localhost \\\n",
    "  --set rabbitmq.ingress.path=/ \\\n",
    "  --set clustername=pecan-server \\\n",
    "  --set clusterfqdn=pecan.$(oc get route python -o jsonpath={.spec.host} | cut -d \".\" -f2-) \\\n",
    "  --set initializeData=true \\\n",
    "  --set ingress.enabled=true \\\n",
    "  --set pecan.env.betydb=http://betydb:8000/ \\\n",
    "  --set persistence.size=3Gi \\\n",
    "  --set persistence.accessMode=ReadWriteOnce \\\n",
    "  --set docs.replicaCount=0 \\\n",
    "  --set executor.replicaCount=0 \\\n",
    "  --set models.biocro-0-95.replicaCount=0 \\\n",
    "  --set models.ed2-2-2-0.replicaCount=0 \\\n",
    "  --set models.maespa-git.replicaCount=0 \\\n",
    "  --set models.sipnet-git.replicaCount=0 \\\n",
    "  --set models.sipnet-136.replicaCount=0 \\\n",
    "  --set web.replicaCount=0 \\\n",
    "  --set web.service.port=8080 \\\n",
    "  --set ingress.hosts={pecan.$(oc get route python -o jsonpath={.spec.host} | cut -d \".\" -f2-)}\n",
    "echo DONE"
   ]
  },
  {
   "cell_type": "markdown",
   "id": "0d322950",
   "metadata": {},
   "source": [
    "## ReadWriteOnce PersistentVolumeClaims\n",
    "\n",
    "Because the current state of the PEcAn platform depends on the availability of Read/Write Many Persistent Volume Claims, \n",
    "which is not an available feature of the Red Hat OpenShift Developer Sandbox, \n",
    "we need to work around this limitation. \n",
    "PEcAn sets up the executor, web, and model pods to all mount the same data volume. \n",
    "The Developer Sandbox only supports Read/Write Once PVCs instead which sometimes blocks all of these services from running if they are on different nodes. \n",
    "\n",
    "To work around this issue, we will first deploy the PEcAn executor service, and then deploy web and model pods on the same node. "
   ]
  },
  {
   "cell_type": "markdown",
   "id": "556d9eab",
   "metadata": {},
   "source": [
    "### Check the pecan-load-data Job\n",
    "\n",
    "The `pecan-load-data` Job initializes the database. \n",
    "When the job is complete, it will be deleted. "
   ]
  },
  {
   "cell_type": "code",
   "execution_count": null,
   "id": "ec8573b9",
   "metadata": {},
   "outputs": [],
   "source": [
    "%%bash\n",
    "oc wait job -l app.kubernetes.io/name=pecan-load-data --for delete\n",
    "echo DONE"
   ]
  },
  {
   "cell_type": "markdown",
   "id": "530f8578",
   "metadata": {},
   "source": [
    "### Deploy the PEcAn executor after the pecan-load-data Job"
   ]
  },
  {
   "cell_type": "code",
   "execution_count": null,
   "id": "c2125306",
   "metadata": {},
   "outputs": [],
   "source": [
    "%%bash\n",
    "oc scale deployment/pecan-executor --replicas 1\n",
    "oc get pod -l app.kubernetes.io/name=pecan-executor\n",
    "oc wait pod -l app.kubernetes.io/name=pecan-executor --for=condition=Ready --timeout=2m\n",
    "oc get pod -l app.kubernetes.io/name=pecan-executor\n",
    "echo DONE"
   ]
  },
  {
   "cell_type": "markdown",
   "id": "cc65f0b8",
   "metadata": {},
   "source": [
    "### Update the node name of the pecan-executor deployment"
   ]
  },
  {
   "cell_type": "code",
   "execution_count": null,
   "id": "162c5f23",
   "metadata": {},
   "outputs": [],
   "source": [
    "%%bash\n",
    "PECAN_DATA_NODE=$(oc get $(oc get pod -l app.kubernetes.io/name=pecan-executor -o name) -o jsonpath={.spec.nodeName})\n",
    "echo $PECAN_DATA_NODE\n",
    "oc patch deployment/pecan-executor --type merge \\\n",
    "  -p '{\"spec\":{\"template\":{\"spec\":{\"nodeName\":\"'\"$PECAN_DATA_NODE\"'\"}}}}'\n",
    "oc get pod -l app.kubernetes.io/name=pecan-executor\n",
    "oc wait pod -l app.kubernetes.io/name=pecan-executor --for=condition=Ready --timeout=2m\n",
    "oc get pod -l app.kubernetes.io/name=pecan-executor\n",
    "echo DONE"
   ]
  },
  {
   "cell_type": "markdown",
   "id": "55906ee9",
   "metadata": {},
   "source": [
    "### Deploy the sipnet-136 model on the same data node"
   ]
  },
  {
   "cell_type": "code",
   "execution_count": null,
   "id": "379d1495",
   "metadata": {},
   "outputs": [],
   "source": [
    "%%bash\n",
    "PECAN_DATA_NODE=$(oc get $(oc get pod -l app.kubernetes.io/name=pecan-executor -o name) -o jsonpath={.spec.nodeName})\n",
    "echo $PECAN_DATA_NODE\n",
    "oc patch deployment/pecan-model-sipnet-136 --type merge \\\n",
    "  -p '{\"spec\":{\"template\":{\"spec\":{\"nodeName\":\"'\"$PECAN_DATA_NODE\"'\"}}}}'\n",
    "oc scale deployment/pecan-model-sipnet-136 --replicas 1\n",
    "oc get pod -l app.kubernetes.io/name=pecan-model-sipnet-136\n",
    "oc wait pod -l app.kubernetes.io/name=pecan-model-sipnet-136 --for=condition=Ready --timeout=2m\n",
    "oc get pod -l app.kubernetes.io/name=pecan-model-sipnet-136\n",
    "echo DONE"
   ]
  },
  {
   "cell_type": "markdown",
   "id": "a78ae223",
   "metadata": {},
   "source": [
    "### Deploy the sipnet-git model on the same data node"
   ]
  },
  {
   "cell_type": "code",
   "execution_count": null,
   "id": "4c335e17",
   "metadata": {},
   "outputs": [],
   "source": [
    "%%bash\n",
    "PECAN_DATA_NODE=$(oc get $(oc get pod -l app.kubernetes.io/name=pecan-executor -o name) -o jsonpath={.spec.nodeName})\n",
    "echo $PECAN_DATA_NODE\n",
    "oc patch deployment/pecan-model-sipnet-git --type merge \\\n",
    "  -p '{\"spec\":{\"template\":{\"spec\":{\"nodeName\":\"'\"$PECAN_DATA_NODE\"'\"}}}}'\n",
    "oc scale deployment/pecan-model-sipnet-git --replicas 1\n",
    "oc get pod -l app.kubernetes.io/name=pecan-model-sipnet-git\n",
    "oc wait pod -l app.kubernetes.io/name=pecan-model-sipnet-git --for=condition=Ready --timeout=2m\n",
    "oc get pod -l app.kubernetes.io/name=pecan-model-sipnet-git\n",
    "echo DONE"
   ]
  },
  {
   "cell_type": "markdown",
   "id": "7687bb21",
   "metadata": {},
   "source": [
    "### Deploy the PEcAn Web application on the same data node"
   ]
  },
  {
   "cell_type": "code",
   "execution_count": null,
   "id": "bf4bf024",
   "metadata": {},
   "outputs": [],
   "source": [
    "%%bash\n",
    "PECAN_DATA_NODE=$(oc get $(oc get pod -l app.kubernetes.io/name=pecan-executor -o name) -o jsonpath={.spec.nodeName})\n",
    "echo $PECAN_DATA_NODE\n",
    "oc patch deployment/pecan-web --type merge \\\n",
    "  -p '{\"spec\":{\"template\":{\"spec\":{\"nodeName\":\"'\"$PECAN_DATA_NODE\"'\"}}}}'\n",
    "oc scale deployment/pecan-web --replicas 1\n",
    "oc get pod -l app.kubernetes.io/name=pecan-web\n",
    "oc wait pod -l app.kubernetes.io/name=pecan-web --for=condition=Ready --timeout=2m\n",
    "oc get pod -l app.kubernetes.io/name=pecan-web\n",
    "echo DONE"
   ]
  },
  {
   "cell_type": "markdown",
   "id": "aa591e11",
   "metadata": {},
   "source": [
    "## Discover the PEcAn web service\n",
    "\n",
    "Now discover the URL to the running instance of the PEcAn Web service. \n",
    "Discover the route to the PEcAn web service by running the command below. \n",
    "\n",
    "![PEcAn Web service](pictures/pecan-web-01.png)"
   ]
  },
  {
   "cell_type": "code",
   "execution_count": null,
   "id": "e568fa8c",
   "metadata": {},
   "outputs": [],
   "source": [
    "%%bash\n",
    "oc get $(oc get route -o name | grep pecan-web) -o jsonpath={.spec.host} | xargs -0 printf 'http://%s/pecan/\\n'\n",
    "echo DONE"
   ]
  },
  {
   "cell_type": "markdown",
   "id": "16d704e8",
   "metadata": {},
   "source": [
    "Click [ Next ] to move to the next page where you can select an Ecological Forecasting host, model and site. \n",
    "\n",
    "![PEcAn map](pictures/pecan-web-02.png)"
   ]
  },
  {
   "cell_type": "markdown",
   "id": "acaf356b",
   "metadata": {},
   "source": [
    "Start with some common defaults for this mode run: \n",
    "\n",
    "- Host: `pecan-server`\n",
    "- Model: `SIPNET (r136)`\n",
    "- Site Group: `AmeriFlux`\n",
    "\n",
    "![Select host, model, and site group](pictures/pecan-web-03.png)"
   ]
  },
  {
   "cell_type": "markdown",
   "id": "5933ce71",
   "metadata": {},
   "source": [
    "Click on the waypoints that appear on the map and find a location and click on it. \n",
    "Then click [ Next ]. \n",
    "\n",
    "![Find site](pictures/pecan-web-04.png)"
   ]
  },
  {
   "cell_type": "markdown",
   "id": "9acfb331",
   "metadata": {},
   "source": [
    "Choose a PFT, like `boreal.coniferous`. \n",
    "Then click [ Next ]. \n",
    "\n",
    "![Choose a PFT](pictures/pecan-web-05.png)"
   ]
  },
  {
   "cell_type": "markdown",
   "id": "535dbec8",
   "metadata": {},
   "source": [
    "Now watch the model run! \n",
    "\n",
    "![Watch the model run](pictures/pecan-web-06.png)"
   ]
  },
  {
   "cell_type": "code",
   "execution_count": null,
   "id": "72f81acd",
   "metadata": {},
   "outputs": [],
   "source": []
  }
 ],
 "metadata": {
  "kernelspec": {
   "display_name": "Python 3.9.16",
   "language": "python",
   "name": "python3"
  },
  "language_info": {
   "codemirror_mode": {
    "name": "ipython",
    "version": 3
   },
   "file_extension": ".py",
   "mimetype": "text/x-python",
   "name": "python",
   "nbconvert_exporter": "python",
   "pygments_lexer": "ipython3",
   "version": "3.9.18"
  }
 },
 "nbformat": 4,
 "nbformat_minor": 5
}
