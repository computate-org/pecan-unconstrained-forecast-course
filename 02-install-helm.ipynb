{
 "cells": [
  {
   "cell_type": "markdown",
   "id": "c3e2ffe9-0679-45cf-89d3-bd64789982f6",
   "metadata": {},
   "source": [
    "# Install helm\n",
    "\n",
    "## The package manager for Kubernetes"
   ]
  },
  {
   "cell_type": "markdown",
   "id": "9dbadb22",
   "metadata": {},
   "source": [
    "The helm command gives you access to hundreds of useful cloud applications that can easily be installed to an OpenShift cloud environment. "
   ]
  },
  {
   "cell_type": "markdown",
   "id": "190079c4",
   "metadata": {},
   "source": [
    "Run the commands below to install helm, for installing postgresql, betydb, and PEcAn. "
   ]
  },
  {
   "cell_type": "code",
   "execution_count": null,
   "id": "ce378b2b-3ab0-4bc9-8ee2-7bc380eb965e",
   "metadata": {
    "vscode": {
     "languageId": "shellscript"
    }
   },
   "outputs": [],
   "source": [
    "%%bash\n",
    "mkdir -p ~/.local/bin/ ~/.local/src\n",
    "curl -fsSL -o ~/.local/bin/get_helm.sh https://raw.githubusercontent.com/helm/helm/main/scripts/get-helm-3\n",
    "chmod 700 ~/.local/bin/get_helm.sh\n",
    "env HELM_INSTALL_DIR=~/.local/bin ~/.local/bin/get_helm.sh --no-sudo\n",
    "echo DONE"
   ]
  },
  {
   "cell_type": "markdown",
   "id": "61a0e1bb",
   "metadata": {},
   "source": [
    "## More information about using Helm\n",
    "\n",
    "To learn more about using Helm to deploy applications, visit: \n",
    "\n",
    "https://helm.sh/"
   ]
  },
  {
   "cell_type": "markdown",
   "id": "3159f9fe",
   "metadata": {},
   "source": [
    "## Next...\n",
    "I hope that answers some of your questions about using Helm in  the PEcAn Platform. \n",
    "- If you have additional questions or issues, please [create an issue for the course here](https://github.com/computate-org/pecan-unconstrained-forecast-course/issues). \n",
    "- Otherwise, please continue to the next notebook [03-install-postgres.ipynb](03-install-postgres.ipynb). "
   ]
  },
  {
   "cell_type": "code",
   "execution_count": null,
   "id": "51b18c06",
   "metadata": {
    "vscode": {
     "languageId": "shellscript"
    }
   },
   "outputs": [],
   "source": []
  }
 ],
 "metadata": {
  "kernelspec": {
   "display_name": "Python 3",
   "language": "python",
   "name": "python3"
  },
  "language_info": {
   "codemirror_mode": {
    "name": "ipython",
    "version": 3
   },
   "file_extension": ".py",
   "mimetype": "text/x-python",
   "name": "python",
   "nbconvert_exporter": "python",
   "pygments_lexer": "ipython3",
   "version": "3.9.18"
  }
 },
 "nbformat": 4,
 "nbformat_minor": 5
}
