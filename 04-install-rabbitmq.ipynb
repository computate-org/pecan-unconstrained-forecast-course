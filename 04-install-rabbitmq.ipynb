{
 "cells": [
  {
   "cell_type": "markdown",
   "id": "7521a761",
   "metadata": {},
   "source": [
    "## About the RabbitMQ message broker in the PEcAn Platform\n",
    "\n",
    "> \"I sent you a POST, why didn't you respond?\" **- REST Client**\n",
    "\n",
    "> \"I can't respond right now. I'll probably send you a message later.\" **- Message Broker**\n",
    "\n",
    "A message broker like RabbitMQ can receive messages from an ecological forecaster and forward the message to a model container to process the message. RabbitMQ supports AMQP protocol for sending messages. Red Hat AMQ Broker is another message broker that supports AMQP and MQTT version 5, but Red Hat AMQ Broker is not available to be deployed in the Red Hat OpenShift Sandbox, so we'll use RabbitMQ. \n"
   ]
  },
  {
   "cell_type": "markdown",
   "id": "526cb689-a232-4a90-a849-0cc5c955e9c1",
   "metadata": {},
   "source": [
    "# Install RabbitMQ with helm\n",
    "\n",
    "Run the commands below to install PEcAn for ecological forecasting. "
   ]
  },
  {
   "cell_type": "code",
   "execution_count": null,
   "id": "7d91c102-6cfa-47d4-9067-e2158c83163a",
   "metadata": {},
   "outputs": [],
   "source": [
    "%%bash\n",
    "helm uninstall pecan-rabbitmq\n",
    "helm upgrade --install pecan-rabbitmq --version 14.1.5 oci://registry-1.docker.io/bitnamicharts/rabbitmq \\\n",
    "  --set rabbitmq.username=guest \\\n",
    "  --set rabbitmq.password=guest \\\n",
    "  --set rabbitmq.erlangCookie=1234thisisasupersecretoflength32 \\\n",
    "  --set auth.username=guest \\\n",
    "  --set auth.password=guest \\\n",
    "  --set auth.erlangCookie=1234thisisasupersecretoflength32 \\\n",
    "  --set ingress.enabled=false \\\n",
    "  --set ingress.hostName=rabbitmq.localhost \\\n",
    "  --set ingress.path=/ \\\n",
    "  --set persistence.size=3Gi\n",
    "echo DONE"
   ]
  },
  {
   "cell_type": "markdown",
   "id": "2fefd103",
   "metadata": {},
   "source": [
    "### View RabbitMQ pod details\n",
    "After deploying the Helm Chart, it will take a minute before the PostgreSQL pod is up and running. Run the command below until the PostgreSQL pod health checks are `READY 1/1` and `STATUS Running`. "
   ]
  },
  {
   "cell_type": "code",
   "execution_count": null,
   "id": "37b9997b",
   "metadata": {},
   "outputs": [],
   "source": [
    "%%bash\n",
    "oc get pod -l app.kubernetes.io/name=rabbitmq\n",
    "oc wait pod -l app.kubernetes.io/name=rabbitmq --for=condition=Ready --timeout=2m\n",
    "oc get pod -l app.kubernetes.io/name=rabbitmq\n",
    "echo DONE"
   ]
  },
  {
   "cell_type": "markdown",
   "id": "146b4b2c",
   "metadata": {},
   "source": [
    "### View RabbitMQ pod logs\n",
    "If your RabbitMQ pod does not reach the STATUS Running, you can run the command below to view the pod logs of RabbitMQ and check for other errors that may have occured. "
   ]
  },
  {
   "cell_type": "code",
   "execution_count": null,
   "id": "4040ccb0",
   "metadata": {},
   "outputs": [],
   "source": [
    "%%bash\n",
    "oc logs -l app.kubernetes.io/name=rabbitmq\n",
    "echo DONE"
   ]
  },
  {
   "cell_type": "markdown",
   "id": "77b610a5",
   "metadata": {},
   "source": [
    "## Check the version of RabbitMQ deployed\n",
    "\n",
    "RabbitMQ is an open source project rolling out new stable versions of the database all the time. \n",
    "You can check on the image version of RabbitMQ by checking the `image` of the `StatefulSet/pecan-rabbitmq` below. "
   ]
  },
  {
   "cell_type": "code",
   "execution_count": null,
   "id": "e407cb7c",
   "metadata": {},
   "outputs": [],
   "source": [
    "%%bash\n",
    "oc get statefulset/pecan-rabbitmq -o yaml | grep image:\n",
    "echo DONE"
   ]
  },
  {
   "cell_type": "markdown",
   "id": "802c5795",
   "metadata": {},
   "source": [
    "The image you discovered above can also be found in DockerHub here: \n",
    "\n",
    "https://hub.docker.com/layers/bitnami/rabbitmq/3.13.2-debian-12-r4/images/sha256-70c0fecb5f4acfa0320fab99b654540312bf70189e6b9584781182ab2aa813e5?context=explore"
   ]
  },
  {
   "cell_type": "markdown",
   "id": "2584abcc",
   "metadata": {},
   "source": [
    "## More information about deploying RabbitMQ\n",
    "\n",
    "To learn more about deploying RabbitMQ using the Bitnami Helm Chart see: \n",
    "\n",
    "https://artifacthub.io/packages/helm/bitnami/rabbitmq"
   ]
  },
  {
   "cell_type": "markdown",
   "id": "b0b5a70a",
   "metadata": {},
   "source": [
    "## Next...\n",
    "I hope that answers your questions about RabbitMQ in the PEcAn Platform. \n",
    "- If you have additional questions or issues, please [create an issue for the course here](https://github.com/computate-org/pecan-unconstrained-forecast-course/issues). \n",
    "- Otherwise, please continue to the next notebook [05-install-betydb.ipynb](05-install-betydb.ipynb). "
   ]
  },
  {
   "cell_type": "code",
   "execution_count": null,
   "id": "c859961b-57fc-410a-b305-50f2b9d2d14f",
   "metadata": {},
   "outputs": [],
   "source": []
  }
 ],
 "metadata": {
  "kernelspec": {
   "display_name": "Python 3.9.16",
   "language": "python",
   "name": "python3"
  },
  "language_info": {
   "codemirror_mode": {
    "name": "ipython",
    "version": 3
   },
   "file_extension": ".py",
   "mimetype": "text/x-python",
   "name": "python",
   "nbconvert_exporter": "python",
   "pygments_lexer": "ipython3",
   "version": "3.9.18"
  }
 },
 "nbformat": 4,
 "nbformat_minor": 5
}
