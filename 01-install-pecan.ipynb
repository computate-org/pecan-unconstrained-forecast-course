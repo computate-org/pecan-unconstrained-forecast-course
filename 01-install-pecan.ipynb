{
 "cells": [
  {
   "cell_type": "markdown",
   "id": "c3e2ffe9-0679-45cf-89d3-bd64789982f6",
   "metadata": {},
   "source": [
    "# Install helm\n",
    "\n",
    "Run the commands below to install helm, for installing postgresql, betydb, and PEcAn. "
   ]
  },
  {
   "cell_type": "code",
   "execution_count": null,
   "id": "ce378b2b-3ab0-4bc9-8ee2-7bc380eb965e",
   "metadata": {},
   "outputs": [],
   "source": [
    "%%bash\n",
    "mkdir -p ~/.local/bin/ ~/.local/src\n",
    "curl -fsSL -o ~/.local/bin/get_helm.sh https://raw.githubusercontent.com/helm/helm/main/scripts/get-helm-3\n",
    "chmod 700 ~/.local/bin/get_helm.sh\n",
    "env HELM_INSTALL_DIR=~/.local/bin ~/.local/bin/get_helm.sh --no-sudo\n",
    "echo DONE"
   ]
  },
  {
   "cell_type": "markdown",
   "id": "1814347f-b17a-4f7c-ab67-75a531232d6e",
   "metadata": {},
   "source": [
    "# Install PostgreSQL with helm\n",
    "\n",
    "Run the commands below to install PostgreSQL relational database with helm. "
   ]
  },
  {
   "cell_type": "code",
   "execution_count": null,
   "id": "5721ad20-c855-40b2-8817-386085a460c1",
   "metadata": {},
   "outputs": [],
   "source": [
    "%%bash\n",
    "helm install postgresql oci://registry-1.docker.io/bitnamicharts/postgresql \\\n",
    "  --set enabled=true \\\n",
    "  --set fullnameOverride=pecan-postgresql \\\n",
    "  --set serviceAccount.enabled=true \\\n",
    "  --set auth.postgresPassword=supersecret\n",
    "echo DONE"
   ]
  },
  {
   "cell_type": "markdown",
   "id": "2a3e2f4b-0044-484b-b4a0-2ca69a4fe856",
   "metadata": {},
   "source": [
    "# Install BetyDB with helm\n",
    "\n",
    "Run the commands below to install BetyDB on top of PostgreSQL for ecological forecasting data. "
   ]
  },
  {
   "cell_type": "code",
   "execution_count": null,
   "id": "3ca43de0-6432-43cd-97b9-98b37d4773e1",
   "metadata": {},
   "outputs": [],
   "source": [
    "%%bash\n",
    "git clone https://github.com/computate-org/bety-helm.git ~/.local/src/bety-helm/\n",
    "helm repo add bitnami https://raw.githubusercontent.com/bitnami/charts/archive-full-index/bitnami\n",
    "(cd ~/.local/src/bety-helm/ && helm dependency build)\n",
    "helm install betydb ~/.local/src/bety-helm/  \\\n",
    "  --set postgresql.enabled=false \\\n",
    "  --set postgresql.fullnameOverride=pecan-postgresql \\\n",
    "  --set postgresql.serviceAccount.enabled=true \\\n",
    "  --set postgresql.postgresqlHost=pecan-postgresql \\\n",
    "  --set serviceAccount.enabled=true \\\n",
    "  --set serviceAccount.name=pecan-betydb \\\n",
    "  --set externalSecret=false \\\n",
    "  --set nameOverride=pecan \\\n",
    "  --set fullnameOverride=pecan-betydb\n",
    "echo DONE"
   ]
  },
  {
   "cell_type": "markdown",
   "id": "526cb689-a232-4a90-a849-0cc5c955e9c1",
   "metadata": {},
   "source": [
    "# Install PEcAn with helm\n",
    "\n",
    "Run the commands below to install PEcAn for ecological forecasting. "
   ]
  },
  {
   "cell_type": "code",
   "execution_count": null,
   "id": "7d91c102-6cfa-47d4-9067-e2158c83163a",
   "metadata": {},
   "outputs": [],
   "source": [
    "%%bash\n",
    "git clone https://github.com/computate-org/pecan-helm.git ~/.local/src/pecan-helm/\n",
    "helm repo add ncsa https://opensource.ncsa.illinois.edu/charts/\n",
    "(cd ~/.local/src/pecan-helm/ && helm dependency build)\n",
    "\n",
    "helm install pecan ~/.local/src/pecan-helm/  \\\n",
    "  -n $(cat /var/run/secrets/kubernetes.io/serviceaccount/namespace) \\\n",
    "  --set betydb.enabled=false \\\n",
    "  --set betydb.postgresql.enabled=false \\\n",
    "  --set betydb.postgresql.postgresqlHost=pecan-postgresql \\\n",
    "  --set betydb.postgresql.postgresqlUser=postgres \\\n",
    "  --set betydb.postgresql.postgresqlUsername=postgres \\\n",
    "  --set betydb.postgresql.postgresqlDatabase=postgres \\\n",
    "  --set betydb.postgresql.service.port=5432 \\\n",
    "  --set betydb.service.port=8000 \\\n",
    "  --set clustername=pecan-server \\\n",
    "  --set clusterfqdn=pecan-server-pecan.apps-crc.testing \\\n",
    "  --set initializeData=true \\\n",
    "  --set ingress.enabled=true \\\n",
    "  --set pecan.env.betydb=http://betydb:8000/ \\\n",
    "  --set betydb.betyUser=bety \\\n",
    "  --set betydb.betyDatabase=bety \\\n",
    "  --set betydb.ingress.hosts={betydb.pecan.svc.cluster.local} \\\n",
    "  --set ingress.hosts={pecan-server-pecan.apps-crc.testing}\n",
    "echo DONE"
   ]
  },
  {
   "cell_type": "code",
   "execution_count": null,
   "id": "c859961b-57fc-410a-b305-50f2b9d2d14f",
   "metadata": {},
   "outputs": [],
   "source": []
  }
 ],
 "metadata": {
  "kernelspec": {
   "display_name": "Python 3.9.16",
   "language": "python",
   "name": "python3"
  },
  "language_info": {
   "codemirror_mode": {
    "name": "ipython",
    "version": 3
   },
   "file_extension": ".py",
   "mimetype": "text/x-python",
   "name": "python",
   "nbconvert_exporter": "python",
   "pygments_lexer": "ipython3",
   "version": "3.9.18"
  }
 },
 "nbformat": 4,
 "nbformat_minor": 5
}
