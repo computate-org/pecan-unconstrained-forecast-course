{
 "cells": [
  {
   "cell_type": "markdown",
   "id": "47c49c5a-fbbf-4dc2-bba1-5bb9cdd02d06",
   "metadata": {},
   "source": [
    "## Extract the forecast example\n",
    "\n",
    "Extract the ecological forecast example data starting from 2022-05-18. "
   ]
  },
  {
   "cell_type": "code",
   "execution_count": null,
   "id": "46f7f51f-4d15-4c13-989e-42a0adac4c62",
   "metadata": {},
   "outputs": [],
   "source": [
    "%%bash\n",
    "tar xvf ~/forecast_example/forecast_example.tgz -C ~/forecast_example/ --strip-components=1\n",
    "echo DONE"
   ]
  },
  {
   "cell_type": "markdown",
   "id": "8dd196d0-54b4-44fb-9a51-6a2bfb316a6f",
   "metadata": {
    "tags": []
   },
   "source": [
    "## Clone the pecan repo\n",
    "\n",
    "Clone the `hf_landscape_1` branch from the Grad student Dongchen to the home directory for local development. "
   ]
  },
  {
   "cell_type": "code",
   "execution_count": null,
   "id": "befd491f-c091-4421-aabf-0a71f536d7a0",
   "metadata": {},
   "outputs": [],
   "source": [
    "%%bash\n",
    "git clone https://github.com/computate/pecan.git -b hf_landscape_1_DongchenZ_develop ~/pecan/\n",
    "echo DONE"
   ]
  },
  {
   "cell_type": "markdown",
   "id": "8bdac407-4bd3-46d3-a687-13df1f075f25",
   "metadata": {
    "tags": []
   },
   "source": [
    "## Test the connection to the S3 storage\n",
    "\n",
    "Test the credentials you have provided in the data connection to the S3 storage. "
   ]
  },
  {
   "cell_type": "code",
   "execution_count": null,
   "id": "22f90895-78c0-4356-9177-e098b573e6b2",
   "metadata": {},
   "outputs": [],
   "source": [
    "%%bash\n",
    "mc -C /tmp/.mc alias set s3 $AWS_S3_ENDPOINT $AWS_ACCESS_KEY_ID $AWS_SECRET_ACCESS_KEY\n",
    "mc -C /tmp/.mc ls s3/$AWS_S3_BUCKET\n",
    "echo DONE"
   ]
  },
  {
   "cell_type": "markdown",
   "id": "030548cc-1568-4a0d-b985-f8c08830a637",
   "metadata": {},
   "source": [
    "## Download HARV MET data\n",
    "\n",
    "Run the HARV_metdownload_efi.R script to download over one year’s worth of HARV MET data to our workbench persistent volume. "
   ]
  },
  {
   "cell_type": "code",
   "execution_count": null,
   "id": "dfc5b625-b304-4fba-bf70-2e59d44ed400",
   "metadata": {},
   "outputs": [],
   "source": [
    "%%bash\n",
    "Rscript pecan/scripts/HARV_metdownload_efi.R --start.date 2022-05-19 --jumpback.date $(date -d \"yesterday 13:00\" '+%Y-%m-%d')"
   ]
  }
 ],
 "metadata": {
  "kernelspec": {
   "display_name": "Python 3.9.16",
   "language": "python",
   "name": "python3"
  },
  "language_info": {
   "codemirror_mode": {
    "name": "ipython",
    "version": 3
   },
   "file_extension": ".py",
   "mimetype": "text/x-python",
   "name": "python",
   "nbconvert_exporter": "python",
   "pygments_lexer": "ipython3",
   "version": "3.9.16"
  }
 },
 "nbformat": 4,
 "nbformat_minor": 5
}
