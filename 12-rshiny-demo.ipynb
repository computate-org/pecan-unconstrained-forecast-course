{
 "cells": [
  {
   "cell_type": "markdown",
   "id": "9db5d607-d112-41f8-b986-580a73497c53",
   "metadata": {
    "tags": []
   },
   "source": [
    "# Run the R Shiny demo\n",
    "\n",
    "In this notebook, we will run an R Shiny application that will be \n",
    "exposed in a route for a live map of ecological forecasting sites. "
   ]
  },
  {
   "cell_type": "markdown",
   "id": "15d89652-5fb6-4371-a45a-ac975de2d356",
   "metadata": {},
   "source": [
    "## Install PostgreSQL R packages\n",
    "\n",
    "Run the R code below to install the RPostgreSQL and RPostgres R packages locally. "
   ]
  },
  {
   "cell_type": "code",
   "execution_count": null,
   "id": "03235135-a181-43f4-b3b7-790b4c12977a",
   "metadata": {
    "vscode": {
     "languageId": "r"
    }
   },
   "outputs": [],
   "source": [
    "install.packages(\"RPostgreSQL\", lib=\"/opt/app-root/src/Rpackages\")\n",
    "install.packages(\"RPostgres\", lib=\"/opt/app-root/src/Rpackages\")\n"
   ]
  },
  {
   "cell_type": "markdown",
   "id": "e8eae739-e601-4194-8c40-1d67207419bb",
   "metadata": {},
   "source": [
    "## Load Postgres connection environment variables\n",
    "\n",
    "Run the R code below to load the Postgres host, port, user, and password \n",
    "from environment variables into R variables. "
   ]
  },
  {
   "cell_type": "code",
   "execution_count": null,
   "id": "edb12d24-6b68-4dc3-a23a-1978adc83ae6",
   "metadata": {
    "vscode": {
     "languageId": "r"
    }
   },
   "outputs": [],
   "source": [
    "db <- \"postgres\"\n",
    "db_host <- Sys.getenv(\"PGHOST\")\n",
    "db_port <- Sys.getenv(\"PGPORT\")\n",
    "db_user <- Sys.getenv(\"PGUSER\")\n",
    "db_pass <- Sys.getenv(\"PGPASSWORD\")\n",
    "print(\"DONE\")"
   ]
  },
  {
   "cell_type": "markdown",
   "id": "661a891a-3945-43b9-aab0-508c97ae5350",
   "metadata": {},
   "source": [
    "## Load Shiny UI libraries for ecological forecasting site map\n",
    "\n",
    "Load the R libraries to run the application, like `shiny`, `leaflet` for maps, `DBI`, `RPostgreSQL`, and `RPostgres` for the connection to the PEcAn database. "
   ]
  },
  {
   "cell_type": "code",
   "execution_count": null,
   "id": "2111e22d-1f5a-4ef1-a162-8f448d1f0be7",
   "metadata": {
    "vscode": {
     "languageId": "r"
    }
   },
   "outputs": [],
   "source": [
    "library(shiny)\n",
    "library(leaflet)\n",
    "library(DBI)\n",
    "library(RPostgreSQL)\n",
    "library(RPostgres)\n",
    "\n",
    "ui <- fluidPage(\n",
    "  tags$h1(\"Ecological Forecasting Sites\"),\n",
    "  leafletOutput(outputId = \"map\")\n",
    ")\n",
    "print(\"DONE\")"
   ]
  },
  {
   "cell_type": "markdown",
   "id": "c98ae4e2-c19d-476e-914f-00afe113621a",
   "metadata": {},
   "source": [
    "## Create the Shiny server\n",
    "\n",
    "Create the server callback function that includes: \n",
    "\n",
    "- `conn`: a reactive data connection to PostgreSQL. \n",
    "- `sites`: The sites returned from the SQL query to PostgreSQL. \n",
    "- disconnect from PostgreSQL. \n",
    "- frame the sites data. \n",
    "- Create an output map with `renderLeaflet`. \n",
    "- The `sitename` database field will be the label. \n",
    "- The `lat` and `lon` database fields will be the map coordinates. \n"
   ]
  },
  {
   "cell_type": "code",
   "execution_count": null,
   "id": "ef08b2d2-3618-48b1-bcaa-d147f8ca930a",
   "metadata": {
    "vscode": {
     "languageId": "r"
    }
   },
   "outputs": [],
   "source": [
    "server <- function(input, output) {\n",
    "  data <- reactive({\n",
    "    conn <- dbConnect(\n",
    "      RPostgres::Postgres(),\n",
    "      dbname = \"bety\",\n",
    "      host = db_host,\n",
    "      port = db_port,\n",
    "      user = db_user,\n",
    "      password = db_pass\n",
    "    )\n",
    "    sites <- dbGetQuery(conn, \"SELECT sites.id, sites.sitename, sites.city, sites.country, ST_X(ST_CENTROID(sites.geometry)) AS lon, ST_Y(ST_CENTROID(sites.geometry)) AS lat FROM sites INNER JOIN sitegroups_sites ON sitegroups_sites.site_id=sites.id where sitegroups_sites.sitegroup_id=1\")\n",
    "    dbDisconnect(conn)\n",
    "    data.frame(sites)\n",
    "  })\n",
    "\n",
    "  output$map <- renderLeaflet({\n",
    "    leaflet(data = data()) %>%\n",
    "      addTiles() %>%\n",
    "      addMarkers(~lon, ~lat, label = ~sitename) %>%\n",
    "      addProviderTiles(providers$Esri.WorldStreetMap)\n",
    "  })\n",
    "}\n",
    "print(\"DONE\")"
   ]
  },
  {
   "cell_type": "markdown",
   "id": "b726dd1d-96af-4407-8a7a-802b13a01167",
   "metadata": {},
   "source": [
    "## Run the R Shiny app in development\n",
    "\n",
    "You can run the Shiny app by running the commands below. \n",
    "Keep in mind that this is a blocking command for the Jupyter \n",
    "Notebook, so you won't be able to run other commands in this \n",
    "Notebook until you interrupt the command. See below for details. "
   ]
  },
  {
   "cell_type": "code",
   "execution_count": null,
   "id": "f64acc06-e530-4f35-a252-3b638eef3539",
   "metadata": {
    "tags": [],
    "vscode": {
     "languageId": "r"
    }
   },
   "outputs": [],
   "source": [
    "app <- shinyApp(ui = ui, server)\n",
    "shiny::runApp(host = '0.0.0.0', port=8080, app=app)\n"
   ]
  },
  {
   "cell_type": "markdown",
   "id": "becfa6a4-22a3-4e45-baf8-6db1eb5e3e17",
   "metadata": {
    "tags": []
   },
   "source": [
    "\n",
    "## Visit your RShiny app in development\n",
    "\n",
    "Click on the link that you generated at the very end of the [03-prepare-rshiny-demo.ipynb](03-prepare-rshiny-demo.ipynb) notebook to access the RShiny app in development.\n",
    "\n",
    "[![R Shiny ecological forecasting sites app](pictures/rshiny-app-eco-forecast-sites.png)](rshiny-app-eco-forecast-sites.png)\n"
   ]
  },
  {
   "cell_type": "markdown",
   "id": "a749faf7-6098-496c-9a7f-39977ef023f2",
   "metadata": {},
   "source": [
    "## Stopping the RShiny app\n",
    "\n",
    "When you are done running the R Shiny app, you will want to stop \n",
    "the notebook code you ran above by clicking the \"Interrupt the kernel\" \n",
    "button, or press [ i ] [ i ] twice in a row in this notebook to \n",
    "interrupt the kernel. \n"
   ]
  },
  {
   "cell_type": "code",
   "execution_count": null,
   "id": "55d3054d-da23-4b5b-b2a3-a7aaff5491d8",
   "metadata": {
    "vscode": {
     "languageId": "r"
    }
   },
   "outputs": [],
   "source": []
  }
 ],
 "metadata": {
  "kernelspec": {
   "display_name": "R 4.2.2",
   "language": "R",
   "name": "ir42"
  },
  "language_info": {
   "codemirror_mode": "r",
   "file_extension": ".r",
   "mimetype": "text/x-r-source",
   "name": "R",
   "pygments_lexer": "r",
   "version": "4.2.2"
  }
 },
 "nbformat": 4,
 "nbformat_minor": 5
}
