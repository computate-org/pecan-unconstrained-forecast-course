{
 "cells": [
  {
   "cell_type": "code",
   "execution_count": null,
   "id": "03235135-a181-43f4-b3b7-790b4c12977a",
   "metadata": {},
   "outputs": [],
   "source": [
    "install.packages(\"RPostgreSQL\", lib=\"/opt/app-root/src/Rpackages\")\n",
    "install.packages(\"RPostgres\", lib=\"/opt/app-root/src/Rpackages\")\n"
   ]
  },
  {
   "cell_type": "code",
   "execution_count": null,
   "id": "edb12d24-6b68-4dc3-a23a-1978adc83ae6",
   "metadata": {},
   "outputs": [],
   "source": [
    "db <- \"postgres\"\n",
    "db_host <- Sys.getenv(\"PGHOST\")\n",
    "db_port <- Sys.getenv(\"PGPORT\")\n",
    "db_user <- Sys.getenv(\"PGUSER\")\n",
    "db_pass <- Sys.getenv(\"PGPASSWORD\")\n",
    "print(\"DONE\")"
   ]
  },
  {
   "cell_type": "code",
   "execution_count": null,
   "id": "883ddc28-8528-48be-9bd6-e009df4483af",
   "metadata": {},
   "outputs": [],
   "source": [
    "library(DBI)\n",
    "conn <- dbConnect(\n",
    "  RPostgres::Postgres(),\n",
    "  dbname = \"bety\",\n",
    "  host = db_host,\n",
    "  port = db_port,\n",
    "  user = db_user,\n",
    "  password = db_pass\n",
    ")\n",
    "print(\"DONE\")"
   ]
  },
  {
   "cell_type": "code",
   "execution_count": null,
   "id": "edc69bd3-a17c-43d3-8d16-97e05c8c806c",
   "metadata": {},
   "outputs": [],
   "source": [
    "dbGetQuery(conn, \"SELECT sites.id, sites.sitename, sites.city, sites.country, ST_X(ST_CENTROID(sites.geometry)) AS lon, ST_Y(ST_CENTROID(sites.geometry)) AS lat FROM sites limit 5\")"
   ]
  },
  {
   "cell_type": "code",
   "execution_count": null,
   "id": "2111e22d-1f5a-4ef1-a162-8f448d1f0be7",
   "metadata": {},
   "outputs": [],
   "source": [
    "library(shiny)\n",
    "library(glue)\n",
    "library(leaflet)\n",
    "\n",
    "ui <- fluidPage(\n",
    "  tags$h1(\"Ecological Forecasting Sites\"),\n",
    "  leafletOutput(outputId = \"map\")\n",
    ")\n"
   ]
  },
  {
   "cell_type": "code",
   "execution_count": null,
   "id": "ef08b2d2-3618-48b1-bcaa-d147f8ca930a",
   "metadata": {},
   "outputs": [],
   "source": [
    "server <- function(input, output) {\n",
    "  data <- reactive({\n",
    "    conn <- dbConnect(\n",
    "      RPostgres::Postgres(),\n",
    "      dbname = \"bety\",\n",
    "      host = db_host,\n",
    "      port = db_port,\n",
    "      user = db_user,\n",
    "      password = db_pass\n",
    "    )\n",
    "    sites <- dbGetQuery(conn, \"SELECT sites.id, sites.sitename, sites.city, sites.country, ST_X(ST_CENTROID(sites.geometry)) AS lon, ST_Y(ST_CENTROID(sites.geometry)) AS lat FROM sites INNER JOIN sitegroups_sites ON sitegroups_sites.site_id=sites.id where sitegroups_sites.sitegroup_id=1\")\n",
    "    dbDisconnect(conn)\n",
    "    data.frame(sites)\n",
    "  })\n",
    "\n",
    "  output$map <- renderLeaflet({\n",
    "    leaflet(data = data()) %>%\n",
    "      addTiles() %>%\n",
    "      addMarkers(~lon, ~lat, label = ~sitename) %>%\n",
    "      addProviderTiles(providers$Esri.WorldStreetMap)\n",
    "  })\n",
    "}\n",
    "print(\"DONE\")"
   ]
  },
  {
   "cell_type": "code",
   "execution_count": null,
   "id": "f64acc06-e530-4f35-a252-3b638eef3539",
   "metadata": {},
   "outputs": [],
   "source": [
    "app <- shinyApp(ui = ui, server)\n",
    "shiny::runApp(host = '0.0.0.0', port=8080, app=app)\n"
   ]
  },
  {
   "cell_type": "markdown",
   "id": "becfa6a4-22a3-4e45-baf8-6db1eb5e3e17",
   "metadata": {},
   "source": [
    "\n",
    "## Visit your RShiny app in development\n",
    "\n",
    "Click on the link above to access the RShiny app in development.\n"
   ]
  },
  {
   "cell_type": "code",
   "execution_count": null,
   "id": "b1bdbd11-0b39-477b-a0dd-68bb19a87c8a",
   "metadata": {},
   "outputs": [],
   "source": []
  }
 ],
 "metadata": {
  "kernelspec": {
   "display_name": "R 4.2.2",
   "language": "R",
   "name": "ir42"
  },
  "language_info": {
   "codemirror_mode": "r",
   "file_extension": ".r",
   "mimetype": "text/x-r-source",
   "name": "R",
   "pygments_lexer": "r",
   "version": "4.2.2"
  }
 },
 "nbformat": 4,
 "nbformat_minor": 5
}
