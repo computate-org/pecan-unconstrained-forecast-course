{
 "cells": [
  {
   "cell_type": "markdown",
   "id": "526cb689-a232-4a90-a849-0cc5c955e9c1",
   "metadata": {},
   "source": [
    "# Install RabbitMQ with helm\n",
    "\n",
    "Run the commands below to install PEcAn for ecological forecasting. "
   ]
  },
  {
   "cell_type": "code",
   "execution_count": null,
   "id": "7d91c102-6cfa-47d4-9067-e2158c83163a",
   "metadata": {},
   "outputs": [],
   "source": [
    "%%bash\n",
    "helm upgrade --install pecan-rabbitmq --version 14.1.5 oci://registry-1.docker.io/bitnamicharts/rabbitmq \\\n",
    "  --set rabbitmq.username=guest \\\n",
    "  --set rabbitmq.password=guest \\\n",
    "  --set rabbitmq.erlangCookie=1234thisisasupersecretoflength32 \\\n",
    "  --set auth.username=guest \\\n",
    "  --set auth.password=guest \\\n",
    "  --set auth.erlangCookie=1234thisisasupersecretoflength32 \\\n",
    "  --set ingress.enabled=false \\\n",
    "  --set ingress.hostName=rabbitmq.localhost \\\n",
    "  --set ingress.path=/ \\\n",
    "  --set persistence.size=3Gi\n",
    "echo DONE"
   ]
  },
  {
   "cell_type": "code",
   "execution_count": null,
   "id": "c859961b-57fc-410a-b305-50f2b9d2d14f",
   "metadata": {},
   "outputs": [],
   "source": []
  }
 ],
 "metadata": {
  "kernelspec": {
   "display_name": "Python 3.9.16",
   "language": "python",
   "name": "python3"
  },
  "language_info": {
   "codemirror_mode": {
    "name": "ipython",
    "version": 3
   },
   "file_extension": ".py",
   "mimetype": "text/x-python",
   "name": "python",
   "nbconvert_exporter": "python",
   "pygments_lexer": "ipython3",
   "version": "3.9.18"
  }
 },
 "nbformat": 4,
 "nbformat_minor": 5
}
